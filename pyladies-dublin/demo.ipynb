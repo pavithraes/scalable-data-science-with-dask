{
 "cells": [
  {
   "cell_type": "markdown",
   "id": "1eb687f7-f01a-4b22-aa56-7e94a6bc74ce",
   "metadata": {},
   "source": [
    "# Scaling Data Science with Dask\n",
    "\n",
    "Dataset: [Seattle Library Checkouts](https://www.kaggle.com/city-of-seattle/seattle-checkouts-by-title?select=checkouts-by-title.csv)"
   ]
  },
  {
   "cell_type": "markdown",
   "id": "08d35f85-1735-4497-aa43-93f3098544cf",
   "metadata": {},
   "source": [
    "## pandas"
   ]
  },
  {
   "cell_type": "code",
   "execution_count": null,
   "id": "bab3d5ad-617d-47fe-be84-3bb07d5e7378",
   "metadata": {},
   "outputs": [],
   "source": [
    "import pandas as pd\n",
    "\n",
    "df = pd.read_csv(\"\")"
   ]
  },
  {
   "cell_type": "code",
   "execution_count": null,
   "id": "3393afdc-53c5-4f19-acbc-5fb18db4125c",
   "metadata": {},
   "outputs": [],
   "source": []
  },
  {
   "cell_type": "markdown",
   "id": "0d2e8b7d-a40b-421d-a252-e30d2da60e28",
   "metadata": {},
   "source": [
    "## Dask"
   ]
  },
  {
   "cell_type": "code",
   "execution_count": null,
   "id": "d5ddc10c-5ff6-4a06-b793-f31e3d161f98",
   "metadata": {},
   "outputs": [],
   "source": []
  },
  {
   "cell_type": "code",
   "execution_count": null,
   "id": "84349877-ad1e-400d-961c-e31c8ccb9838",
   "metadata": {},
   "outputs": [],
   "source": []
  },
  {
   "cell_type": "code",
   "execution_count": null,
   "id": "7eb59bcc-8b9b-4d2b-90f5-5afb522681dd",
   "metadata": {},
   "outputs": [],
   "source": []
  },
  {
   "cell_type": "markdown",
   "id": "74db2817-23b7-4624-aa5f-1f3af6680ae8",
   "metadata": {},
   "source": [
    "## Coiled"
   ]
  },
  {
   "cell_type": "code",
   "execution_count": null,
   "id": "a9c70161-ace2-40f6-b134-d8f202c1b49f",
   "metadata": {},
   "outputs": [],
   "source": []
  },
  {
   "cell_type": "code",
   "execution_count": null,
   "id": "b0c6b250-2bce-4992-a08e-fb533d38862d",
   "metadata": {},
   "outputs": [],
   "source": []
  }
 ],
 "metadata": {
  "kernelspec": {
   "display_name": "Python 3 (ipykernel)",
   "language": "python",
   "name": "python3"
  },
  "language_info": {
   "codemirror_mode": {
    "name": "ipython",
    "version": 3
   },
   "file_extension": ".py",
   "mimetype": "text/x-python",
   "name": "python",
   "nbconvert_exporter": "python",
   "pygments_lexer": "ipython3",
   "version": "3.9.7"
  }
 },
 "nbformat": 4,
 "nbformat_minor": 5
}
